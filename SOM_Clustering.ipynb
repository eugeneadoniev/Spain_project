{
 "cells": [
  {
   "cell_type": "markdown",
   "id": "460c79d1",
   "metadata": {},
   "source": [
    "# Unsupervizing Machine Learning \n",
    "\n",
    "## Split all consumers into clusters using a self-organizing map algorithm (SOM)\n",
    "## let's create a neural network using the library SUSI\n",
    "\n",
    "https://susi.readthedocs.io/en/latest/index.html\n"
   ]
  },
  {
   "cell_type": "code",
   "execution_count": 1,
   "id": "66b86914",
   "metadata": {},
   "outputs": [],
   "source": [
    "import pandas as pd\n",
    "import numpy as np\n",
    "import matplotlib.pyplot as plt\n",
    "%matplotlib inline\n",
    "\n",
    "import susi\n",
    "from susi.SOMPlots import plot_nbh_dist_weight_matrix, plot_umatrix"
   ]
  },
  {
   "cell_type": "code",
   "execution_count": 2,
   "id": "beef4972",
   "metadata": {},
   "outputs": [
    {
     "data": {
      "text/html": [
       "<div>\n",
       "<style scoped>\n",
       "    .dataframe tbody tr th:only-of-type {\n",
       "        vertical-align: middle;\n",
       "    }\n",
       "\n",
       "    .dataframe tbody tr th {\n",
       "        vertical-align: top;\n",
       "    }\n",
       "\n",
       "    .dataframe thead th {\n",
       "        text-align: right;\n",
       "    }\n",
       "</style>\n",
       "<table border=\"1\" class=\"dataframe\">\n",
       "  <thead>\n",
       "    <tr style=\"text-align: right;\">\n",
       "      <th></th>\n",
       "      <th>Recency</th>\n",
       "      <th>Frequency</th>\n",
       "      <th>Revenue</th>\n",
       "    </tr>\n",
       "  </thead>\n",
       "  <tbody>\n",
       "    <tr>\n",
       "      <th>0</th>\n",
       "      <td>0.344812</td>\n",
       "      <td>3.219593</td>\n",
       "      <td>1.652553</td>\n",
       "    </tr>\n",
       "    <tr>\n",
       "      <th>1</th>\n",
       "      <td>0.633160</td>\n",
       "      <td>-0.478092</td>\n",
       "      <td>-2.046450</td>\n",
       "    </tr>\n",
       "    <tr>\n",
       "      <th>2</th>\n",
       "      <td>0.081982</td>\n",
       "      <td>5.068435</td>\n",
       "      <td>3.492416</td>\n",
       "    </tr>\n",
       "    <tr>\n",
       "      <th>3</th>\n",
       "      <td>0.633160</td>\n",
       "      <td>-0.478092</td>\n",
       "      <td>0.253329</td>\n",
       "    </tr>\n",
       "    <tr>\n",
       "      <th>4</th>\n",
       "      <td>0.633160</td>\n",
       "      <td>-0.478092</td>\n",
       "      <td>-0.094463</td>\n",
       "    </tr>\n",
       "    <tr>\n",
       "      <th>...</th>\n",
       "      <td>...</td>\n",
       "      <td>...</td>\n",
       "      <td>...</td>\n",
       "    </tr>\n",
       "    <tr>\n",
       "      <th>53910</th>\n",
       "      <td>-5.474123</td>\n",
       "      <td>-0.478092</td>\n",
       "      <td>-0.025527</td>\n",
       "    </tr>\n",
       "    <tr>\n",
       "      <th>53911</th>\n",
       "      <td>-5.474123</td>\n",
       "      <td>-0.478092</td>\n",
       "      <td>-0.247946</td>\n",
       "    </tr>\n",
       "    <tr>\n",
       "      <th>53912</th>\n",
       "      <td>-5.474123</td>\n",
       "      <td>-0.478092</td>\n",
       "      <td>-1.012654</td>\n",
       "    </tr>\n",
       "    <tr>\n",
       "      <th>53913</th>\n",
       "      <td>-5.474123</td>\n",
       "      <td>-0.478092</td>\n",
       "      <td>-0.090935</td>\n",
       "    </tr>\n",
       "    <tr>\n",
       "      <th>53914</th>\n",
       "      <td>-5.474123</td>\n",
       "      <td>-0.478092</td>\n",
       "      <td>-0.102264</td>\n",
       "    </tr>\n",
       "  </tbody>\n",
       "</table>\n",
       "<p>53915 rows × 3 columns</p>\n",
       "</div>"
      ],
      "text/plain": [
       "        Recency  Frequency   Revenue\n",
       "0      0.344812   3.219593  1.652553\n",
       "1      0.633160  -0.478092 -2.046450\n",
       "2      0.081982   5.068435  3.492416\n",
       "3      0.633160  -0.478092  0.253329\n",
       "4      0.633160  -0.478092 -0.094463\n",
       "...         ...        ...       ...\n",
       "53910 -5.474123  -0.478092 -0.025527\n",
       "53911 -5.474123  -0.478092 -0.247946\n",
       "53912 -5.474123  -0.478092 -1.012654\n",
       "53913 -5.474123  -0.478092 -0.090935\n",
       "53914 -5.474123  -0.478092 -0.102264\n",
       "\n",
       "[53915 rows x 3 columns]"
      ]
     },
     "execution_count": 2,
     "metadata": {},
     "output_type": "execute_result"
    }
   ],
   "source": [
    "# we have already prepared and normalized dataset of customers\n",
    "# Customer's features: 'CustomerID', 'Recency', 'Frequency', 'Revenue'\n",
    "df = pd.read_csv(\"tx_user_clean.csv\").drop('CustomerID', axis=1)\n",
    "df"
   ]
  },
  {
   "cell_type": "code",
   "execution_count": 3,
   "id": "425aeae6",
   "metadata": {
    "scrolled": true
   },
   "outputs": [
    {
     "data": {
      "text/plain": [
       "array([[ 0.34481198,  3.2195927 ,  1.65255276],\n",
       "       [ 0.63315986, -0.47809154, -2.04645017],\n",
       "       [ 0.08198161,  5.06843481,  3.49241599],\n",
       "       ...,\n",
       "       [-5.47412307, -0.47809154, -1.01265357],\n",
       "       [-5.47412307, -0.47809154, -0.0909355 ],\n",
       "       [-5.47412307, -0.47809154, -0.10226445]])"
      ]
     },
     "execution_count": 3,
     "metadata": {},
     "output_type": "execute_result"
    }
   ],
   "source": [
    "X = df.values # look on all RFM\n",
    "X"
   ]
  },
  {
   "cell_type": "code",
   "execution_count": 4,
   "id": "05f1bf62",
   "metadata": {},
   "outputs": [],
   "source": [
    "# X_Rec = X[:,0] # look on the Recency\n",
    "# X_Fr = X[:,1] # look on the Frequency\n",
    "# X_Rev = X[:,2] # look on the Revenue"
   ]
  },
  {
   "cell_type": "code",
   "execution_count": 5,
   "id": "adff204b",
   "metadata": {},
   "outputs": [],
   "source": [
    "# X_Rec = X_Rec.reshape(-1, 1) # this needs for SuSi if we use only one column from dataset  "
   ]
  },
  {
   "cell_type": "markdown",
   "id": "9554b60a",
   "metadata": {},
   "source": [
    "# 1. Look on the Frequency"
   ]
  },
  {
   "cell_type": "code",
   "execution_count": 6,
   "id": "df7d118c",
   "metadata": {},
   "outputs": [
    {
     "data": {
      "text/plain": [
       "array([ 3.2195927 , -0.47809154,  5.06843481, ..., -0.47809154,\n",
       "       -0.47809154, -0.47809154])"
      ]
     },
     "execution_count": 6,
     "metadata": {},
     "output_type": "execute_result"
    }
   ],
   "source": [
    "X_Fr = X[:,1] # look on the Frequency\n",
    "X_Fr"
   ]
  },
  {
   "cell_type": "code",
   "execution_count": 7,
   "id": "1075ccd6",
   "metadata": {},
   "outputs": [
    {
     "data": {
      "text/plain": [
       "array([[ 3.2195927 ],\n",
       "       [-0.47809154],\n",
       "       [ 5.06843481],\n",
       "       ...,\n",
       "       [-0.47809154],\n",
       "       [-0.47809154],\n",
       "       [-0.47809154]])"
      ]
     },
     "execution_count": 7,
     "metadata": {},
     "output_type": "execute_result"
    }
   ],
   "source": [
    "X_Fr = X_Fr.reshape(-1, 1) \n",
    "# this needs for SuSi if we use only one column from dataset\n",
    "X_Fr"
   ]
  },
  {
   "cell_type": "markdown",
   "id": "6081c1c7",
   "metadata": {},
   "source": [
    "# Make SOM Clustering and plot"
   ]
  },
  {
   "cell_type": "code",
   "execution_count": 8,
   "id": "7d76bbe3",
   "metadata": {},
   "outputs": [
    {
     "name": "stdout",
     "output_type": "stream",
     "text": [
      "SOM fitted!\n"
     ]
    }
   ],
   "source": [
    "som = susi.SOMClustering(\n",
    "    n_rows=20,\n",
    "    n_columns=20,\n",
    "    n_iter_unsupervised=10000\n",
    ")\n",
    "som.fit(X_Fr)\n",
    "print(\"SOM fitted!\")"
   ]
  },
  {
   "cell_type": "markdown",
   "id": "771be997",
   "metadata": {},
   "source": [
    "# Plot u-Matrix"
   ]
  },
  {
   "cell_type": "code",
   "execution_count": 9,
   "id": "e1149102",
   "metadata": {},
   "outputs": [
    {
     "data": {
      "image/png": "[encoded data removed]",
      "text/plain": [
       "<Figure size 432x432 with 2 Axes>"
      ]
     },
     "metadata": {
      "needs_background": "light"
     },
     "output_type": "display_data"
    }
   ],
   "source": [
    "u_matrix = som.get_u_matrix()\n",
    "plot_umatrix(u_matrix, 20, 20)\n",
    "plt.show()"
   ]
  },
  {
   "cell_type": "markdown",
   "id": "2df3f2ee",
   "metadata": {},
   "source": [
    "# Plot clusters"
   ]
  },
  {
   "cell_type": "code",
   "execution_count": null,
   "id": "e62d6b28",
   "metadata": {},
   "outputs": [],
   "source": [
    "clusters = som.get_clusters(X_Fr)\n",
    "plt.scatter(x=[c[1] for c in clusters], y=[c[0] for c in clusters],  alpha=0.2)\n",
    "plt.gca().invert_yaxis()\n",
    "plt.show()"
   ]
  },
  {
   "cell_type": "code",
   "execution_count": null,
   "id": "afaa8782",
   "metadata": {},
   "outputs": [],
   "source": [
    "clusters"
   ]
  },
  {
   "cell_type": "code",
   "execution_count": null,
   "id": "b429ecdf",
   "metadata": {
    "scrolled": true
   },
   "outputs": [],
   "source": [
    "len(set(tuple([m, n]) for m, n in clusters)) \n",
    "# how many unique clustes we received"
   ]
  },
  {
   "cell_type": "code",
   "execution_count": null,
   "id": "6346210b",
   "metadata": {},
   "outputs": [],
   "source": [
    "coord_clusters = set(tuple([m, n]) for m, n in clusters)\n",
    "# coordinates of clusters in the SOM grid\n",
    "coord_clusters"
   ]
  },
  {
   "cell_type": "markdown",
   "id": "40869064",
   "metadata": {},
   "source": [
    "### Let's count how many datapoints are in the each cluster:"
   ]
  },
  {
   "cell_type": "code",
   "execution_count": null,
   "id": "97d4d565",
   "metadata": {},
   "outputs": [],
   "source": [
    "list_clusters = []\n",
    "for i in coord_clusters:\n",
    "    list_clusters.append(list(i))\n",
    "list_clusters"
   ]
  },
  {
   "cell_type": "code",
   "execution_count": null,
   "id": "a84019c5",
   "metadata": {},
   "outputs": [],
   "source": [
    "for c in list_clusters:\n",
    "    amount = len(som.get_datapoints_from_node(c))\n",
    "    print(amount, 'datapoints in the csluster ',c)\n",
    "\n"
   ]
  },
  {
   "cell_type": "markdown",
   "id": "ecb34214",
   "metadata": {},
   "source": [
    "###  let's make list of remarkered clusters for further use in pandas dataframe:\n",
    "- '0' cluster \n",
    "- '1' cluster \n",
    "- '2' cluster \n",
    "- '3' cluster \n",
    "- '4' cluster\n",
    "- and so on."
   ]
  },
  {
   "cell_type": "code",
   "execution_count": null,
   "id": "654903f0",
   "metadata": {},
   "outputs": [],
   "source": [
    "frequency_clusters = [] \n",
    "for cluster in clusters:\n",
    "    for i in range(len(list_clusters)):\n",
    "        if (cluster[0] == list_clusters[i][0]) \\\n",
    "        and (cluster[1] == list_clusters[i][1]):\n",
    "            frequency_clusters.append(i)\n",
    "len(frequency_clusters)"
   ]
  },
  {
   "cell_type": "code",
   "execution_count": null,
   "id": "9ee2099a",
   "metadata": {},
   "outputs": [],
   "source": [
    "df['Freq_clusters'] = frequency_clusters\n",
    "df"
   ]
  },
  {
   "cell_type": "markdown",
   "id": "a10797f9",
   "metadata": {},
   "source": [
    "# Plot neighborhood distance matrix"
   ]
  },
  {
   "cell_type": "code",
   "execution_count": null,
   "id": "5a1a962e",
   "metadata": {},
   "outputs": [],
   "source": [
    "plot_nbh_dist_weight_matrix(som)\n",
    "plt.show()"
   ]
  },
  {
   "cell_type": "markdown",
   "id": "1e7f2194",
   "metadata": {},
   "source": [
    "# Make 3D plot based on Frequency SOM Clustering"
   ]
  },
  {
   "cell_type": "code",
   "execution_count": null,
   "id": "a57127c2",
   "metadata": {},
   "outputs": [],
   "source": [
    "y_pred = df['Freq_clusters'].values"
   ]
  },
  {
   "cell_type": "code",
   "execution_count": null,
   "id": "52f7d788",
   "metadata": {},
   "outputs": [],
   "source": [
    "from itertools import cycle, islice\n",
    "\n",
    "plt.xticks([]); plt.yticks([])\n",
    "colors = np.array(list(islice(cycle(\n",
    "    ['#377eb8', '#ff7f00', '#4daf4a', '#f781bf',\n",
    "     '#a65628', '#984ea3', '#999999', '#e41a1c', '#dede00']), \n",
    "int(max(y_pred) + 1))))\n",
    "    # black color for outliers\n",
    "colors = np.append(colors, [\"#000000\"])\n",
    "plt.scatter(X[:, 0], X[:, 1], color=colors[y_pred])\n",
    "\n",
    "# 0 - blue, 1 - orange, 2 - green, 3 - pink, 4 - brown"
   ]
  },
  {
   "cell_type": "code",
   "execution_count": null,
   "id": "c0fa13c6",
   "metadata": {},
   "outputs": [],
   "source": [
    "#Make Plotly figure\n",
    "import plotly\n",
    "import plotly.graph_objs as go\n",
    "\n",
    "fig1 = go.Scatter3d(x=df['Recency'],\n",
    "                    y=df['Frequency'],\n",
    "                    z=df['Revenue'],\n",
    "                    marker=dict(opacity=0.9,\n",
    "                                reversescale=True,\n",
    "                                colorscale='Blues',\n",
    "                                color=colors[y_pred],\n",
    "                                size=2),\n",
    "                    line=dict (width=0.5),\n",
    "                    mode='markers')\n",
    "\n",
    "#Make Plot.ly Layout\n",
    "mylayout = go.Layout(scene=dict(xaxis=dict( title=\"Recency\"),\n",
    "                                yaxis=dict( title=\"Frequency\"),\n",
    "                                zaxis=dict(title=\"Revenue\")),)\n",
    "\n",
    "#Plot and save html\n",
    "plotly.offline.plot({\"data\": [fig1],\n",
    "                     \"layout\": mylayout},\n",
    "                     auto_open=True,\n",
    "                     filename=(\"3DPlot_SOM_Frequency_color.html\"))"
   ]
  },
  {
   "cell_type": "markdown",
   "id": "80d94a49",
   "metadata": {},
   "source": [
    "# Conclusion:\n",
    "\n",
    "as we can see on html file, there six clusters of customers, received from feature 'Frequency'. So, we splitted all customers by frequency of purchases"
   ]
  },
  {
   "cell_type": "code",
   "execution_count": null,
   "id": "9629e0ba",
   "metadata": {},
   "outputs": [],
   "source": []
  }
 ],
 "metadata": {
  "kernelspec": {
   "display_name": "Python 3",
   "language": "python",
   "name": "python3"
  },
  "language_info": {
   "codemirror_mode": {
    "name": "ipython",
    "version": 3
   },
   "file_extension": ".py",
   "mimetype": "text/x-python",
   "name": "python",
   "nbconvert_exporter": "python",
   "pygments_lexer": "ipython3",
   "version": "3.8.10"
  }
 },
 "nbformat": 4,
 "nbformat_minor": 5
}
